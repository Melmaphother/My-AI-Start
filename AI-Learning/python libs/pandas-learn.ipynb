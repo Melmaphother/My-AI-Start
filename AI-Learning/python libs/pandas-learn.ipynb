{
 "cells": [
  {
   "cell_type": "markdown",
   "metadata": {},
   "source": [
    "> 学习来源：\n",
    "> https://www.pypandas.cn/docs/\n",
    "> https://pandas.pydata.org/docs/user_guide"
   ]
  },
  {
   "cell_type": "markdown",
   "metadata": {},
   "source": [
    "# Pandas\n",
    "## 适用环境\n",
    "Pandas 适用于处理以下类型的数据：\n",
    "\n",
    "- 与 SQL 或 Excel 表类似的，含异构列的表格数据;\n",
    "- 有序和无序（非固定频率）的时间序列数据;\n",
    "- 带行列标签的矩阵数据，包括同构或异构型数据;\n",
    "- 任意其它形式的观测、统计数据集, 数据转入 Pandas 数据结构时不必事先标记。\n",
    "\n",
    "Pandas 的主要数据结构是 Series（一维数据）与 DataFrame（二维数据）\n",
    "\n",
    "Pandas 基于 NumPy 开发，速度快（基于 Cython），有成熟的 IO，它有很多优势：\n",
    "- 处理浮点与非浮点数据里的缺失数据，表示为 NaN\n",
    "- 插入或删除 DataFrame 等多维对象的列\n",
    "- 时间序列：支持日期范围生成、频率转换、移动窗口统计、移动窗口线性回归、日期位移等时间序列功能。\n",
    "\n",
    "## 关于数据处理\n",
    "数据处理一般分为三个阶段\n",
    "1. 数据整理与清洗\n",
    "2. 数据分析与建模\n",
    "3. 数据可视化与制表"
   ]
  },
  {
   "cell_type": "markdown",
   "metadata": {},
   "source": [
    "## 数据结构\n",
    "Series\t    带标签的一维同构数组\n",
    "DataFrame\t带标签的，大小可变的，二维异构表格\n",
    "\n",
    "Series 的长度不可改变，但 DataFrame 可以插入列\n",
    "绝大多数方法都不改变原始的输入数据，而是复制数据，生成新的对象\n",
    "所以原始输入数据不变更加 **稳妥**\n"
   ]
  },
  {
   "cell_type": "markdown",
   "metadata": {},
   "source": [
    "## 生成对象\n",
    "### 生成 Series 对象\n",
    "1. 使用列表生成 Series 对象\n",
    "   pandas 会自动生成整数索引\n",
    "2. 。。。"
   ]
  },
  {
   "cell_type": "code",
   "execution_count": 1,
   "metadata": {},
   "outputs": [
    {
     "name": "stdout",
     "output_type": "stream",
     "text": [
      "0    1.0\n",
      "1    3.0\n",
      "2    5.0\n",
      "3    NaN\n",
      "4    6.0\n",
      "5    8.0\n",
      "dtype: float64\n"
     ]
    }
   ],
   "source": [
    "import numpy as np\n",
    "import pandas as pd\n",
    "\n",
    "s = pd.Series([1, 3, 5, np.nan, 6, 8])\n",
    "print(s)"
   ]
  },
  {
   "cell_type": "markdown",
   "metadata": {},
   "source": [
    "### 生成 Dataframe 对象\n",
    "用含日期时间索引与标签的 NumPy 数组生成 DataFrame"
   ]
  },
  {
   "cell_type": "code",
   "execution_count": 2,
   "metadata": {},
   "outputs": [
    {
     "name": "stdout",
     "output_type": "stream",
     "text": [
      "DatetimeIndex(['2013-01-01', '2013-01-02', '2013-01-03', '2013-01-04',\n",
      "               '2013-01-05', '2013-01-06'],\n",
      "              dtype='datetime64[ns]', freq='D')\n",
      "                   A         B         C         D\n",
      "2013-01-01  1.059362  0.751469  0.078883 -0.806659\n",
      "2013-01-02  0.260722  2.346246 -1.612758  1.738178\n",
      "2013-01-03 -1.606565  0.873889  0.883242 -0.687996\n",
      "2013-01-04  1.407583 -0.730689 -0.363608 -1.673330\n",
      "2013-01-05  0.268099  0.141772 -1.067307 -1.139146\n",
      "2013-01-06  1.179258  0.649520 -1.251690 -0.443313\n"
     ]
    }
   ],
   "source": [
    "dates = pd.date_range('20130101', periods=6)\n",
    "print(dates)\n",
    "\n",
    "df = pd.DataFrame(np.random.randn(6, 4), index=dates, columns=list('ABCD'))\n",
    "print(df)"
   ]
  },
  {
   "cell_type": "markdown",
   "metadata": {},
   "source": [
    "### 生成 Dataframe 对象\n",
    "用 Series 字典对象生成 Dataframe\n",
    "\n",
    "Dataframe 不同的列有不同的数据结构"
   ]
  },
  {
   "cell_type": "code",
   "execution_count": 4,
   "metadata": {},
   "outputs": [
    {
     "name": "stdout",
     "output_type": "stream",
     "text": [
      "     A          B    C  D      E    F\n",
      "0  1.0 2013-01-02  1.0  3   test  foo\n",
      "1  1.0 2013-01-02  1.0  3  train  foo\n",
      "2  1.0 2013-01-02  1.0  3   test  foo\n",
      "3  1.0 2013-01-02  1.0  3  train  foo\n",
      "A          float64\n",
      "B    datetime64[s]\n",
      "C          float32\n",
      "D            int32\n",
      "E         category\n",
      "F           object\n",
      "dtype: object\n"
     ]
    }
   ],
   "source": [
    "df2 = pd.DataFrame({'A': 1.,\n",
    "                    'B': pd.Timestamp('20130102'),\n",
    "                    'C': pd.Series(1, index=list(range(4)), dtype='float32'),\n",
    "                    'D': np.array([3] * 4, dtype='int32'),\n",
    "                    'E': pd.Categorical([\"test\", \"train\", \"test\", \"train\"]),\n",
    "                    'F': 'foo'})\n",
    "\n",
    "print(df2)\n",
    "print(df2.dtypes)"
   ]
  },
  {
   "cell_type": "markdown",
   "metadata": {},
   "source": [
    "## 查看 Dataframe 数据\n",
    "- head()\n",
    "- tail()\n",
    "- index 显示索引\n",
    "- columns 列名"
   ]
  },
  {
   "cell_type": "code",
   "execution_count": 6,
   "metadata": {},
   "outputs": [
    {
     "name": "stdout",
     "output_type": "stream",
     "text": [
      "                   A         B         C         D\n",
      "2013-01-01  1.059362  0.751469  0.078883 -0.806659\n",
      "2013-01-02  0.260722  2.346246 -1.612758  1.738178\n",
      "2013-01-03 -1.606565  0.873889  0.883242 -0.687996\n",
      "2013-01-04  1.407583 -0.730689 -0.363608 -1.673330\n",
      "                   A         B         C         D\n",
      "2013-01-04  1.407583 -0.730689 -0.363608 -1.673330\n",
      "2013-01-05  0.268099  0.141772 -1.067307 -1.139146\n",
      "2013-01-06  1.179258  0.649520 -1.251690 -0.443313\n",
      "DatetimeIndex(['2013-01-01', '2013-01-02', '2013-01-03', '2013-01-04',\n",
      "               '2013-01-05', '2013-01-06'],\n",
      "              dtype='datetime64[ns]', freq='D')\n",
      "Index(['A', 'B', 'C', 'D'], dtype='object')\n"
     ]
    }
   ],
   "source": [
    "print(df.head(4))\n",
    "print(df.tail(3))\n",
    "print(df.index)\n",
    "print(df.columns)"
   ]
  },
  {
   "cell_type": "markdown",
   "metadata": {},
   "source": [
    "## Dataframe 数据的统计和处理\n",
    "- describe() 统计摘要\n",
    "  - std Standard deviation 标准差\n",
    "- 转置数据\n",
    "- 按轴排序\n",
    "- 按值排序"
   ]
  },
  {
   "cell_type": "code",
   "execution_count": 8,
   "metadata": {},
   "outputs": [
    {
     "name": "stdout",
     "output_type": "stream",
     "text": [
      "              A         B         C         D\n",
      "count  6.000000  6.000000  6.000000  6.000000\n",
      "mean   0.428076  0.672034 -0.555540 -0.502044\n",
      "std    1.105947  1.009887  0.935272  1.177049\n",
      "min   -1.606565 -0.730689 -1.612758 -1.673330\n",
      "25%    0.262566  0.268709 -1.205594 -1.056024\n",
      "50%    0.663730  0.700494 -0.715458 -0.747328\n",
      "75%    1.149284  0.843284 -0.031740 -0.504484\n",
      "max    1.407583  2.346246  0.883242  1.738178\n",
      "   2013-01-01  2013-01-02  2013-01-03  2013-01-04  2013-01-05  2013-01-06\n",
      "A    1.059362    0.260722   -1.606565    1.407583    0.268099    1.179258\n",
      "B    0.751469    2.346246    0.873889   -0.730689    0.141772    0.649520\n",
      "C    0.078883   -1.612758    0.883242   -0.363608   -1.067307   -1.251690\n",
      "D   -0.806659    1.738178   -0.687996   -1.673330   -1.139146   -0.443313\n",
      "                   D         C         B         A\n",
      "2013-01-01 -0.806659  0.078883  0.751469  1.059362\n",
      "2013-01-02  1.738178 -1.612758  2.346246  0.260722\n",
      "2013-01-03 -0.687996  0.883242  0.873889 -1.606565\n",
      "2013-01-04 -1.673330 -0.363608 -0.730689  1.407583\n",
      "2013-01-05 -1.139146 -1.067307  0.141772  0.268099\n",
      "2013-01-06 -0.443313 -1.251690  0.649520  1.179258\n",
      "                   A         B         C         D\n",
      "2013-01-06  1.179258  0.649520 -1.251690 -0.443313\n",
      "2013-01-05  0.268099  0.141772 -1.067307 -1.139146\n",
      "2013-01-04  1.407583 -0.730689 -0.363608 -1.673330\n",
      "2013-01-03 -1.606565  0.873889  0.883242 -0.687996\n",
      "2013-01-02  0.260722  2.346246 -1.612758  1.738178\n",
      "2013-01-01  1.059362  0.751469  0.078883 -0.806659\n",
      "                   A         B         C         D\n",
      "2013-01-04  1.407583 -0.730689 -0.363608 -1.673330\n",
      "2013-01-05  0.268099  0.141772 -1.067307 -1.139146\n",
      "2013-01-06  1.179258  0.649520 -1.251690 -0.443313\n",
      "2013-01-01  1.059362  0.751469  0.078883 -0.806659\n",
      "2013-01-03 -1.606565  0.873889  0.883242 -0.687996\n",
      "2013-01-02  0.260722  2.346246 -1.612758  1.738178\n"
     ]
    }
   ],
   "source": [
    "print(df.describe())\n",
    "print(df.T)\n",
    "print(df.sort_index(axis=1, ascending=False)) # acending=False 降序，按第一行降序\n",
    "print(df.sort_index(axis=0, ascending=False)) # 按第一列降序\n",
    "print(df.sort_values(by='B'))"
   ]
  },
  {
   "cell_type": "markdown",
   "metadata": {},
   "source": [
    "## Dataframe 的索引和切片"
   ]
  }
 ],
 "metadata": {
  "kernelspec": {
   "display_name": "ml",
   "language": "python",
   "name": "python3"
  },
  "language_info": {
   "codemirror_mode": {
    "name": "ipython",
    "version": 3
   },
   "file_extension": ".py",
   "mimetype": "text/x-python",
   "name": "python",
   "nbconvert_exporter": "python",
   "pygments_lexer": "ipython3",
   "version": "3.10.13"
  }
 },
 "nbformat": 4,
 "nbformat_minor": 2
}
