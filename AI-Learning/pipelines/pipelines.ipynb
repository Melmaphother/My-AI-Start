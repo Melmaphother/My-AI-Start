{
 "cells": [
  {
   "cell_type": "code",
   "execution_count": 3,
   "metadata": {},
   "outputs": [
    {
     "name": "stdout",
     "output_type": "stream",
     "text": [
      "True\n",
      "tensor([[0.3948]], grad_fn=<SigmoidBackward0>)\n"
     ]
    }
   ],
   "source": [
    "import torch\n",
    "from torch import nn\n",
    "import os\n",
    "# os.environ['HF_ENDPOINT'] = 'https://hf-mirror.com'\n",
    "os.environ['CURL_CA_BUNDLE'] = ''\n",
    "os.environ['HTTP_PROXY'] = \"http://127.0.0.1:7897\"\n",
    "os.environ['HTTPS_PROXY'] = \"http://127.0.0.1:7897\"\n",
    "os.environ['ALL_PROXY'] = \"socks5://127.0.0.1:7897\"\n",
    "\n",
    "from transformers import BertTokenizer, BertModel\n",
    "print(torch.cuda.is_available())\n",
    "\n",
    "class bert(nn.Module):\n",
    "    def __init__(self):\n",
    "        super(bert, self).__init__()\n",
    "        self.bert_model = BertModel.from_pretrained('bert-base-uncased')\n",
    "        self.tokenizer = BertTokenizer.from_pretrained('bert-base-uncased')\n",
    "        self.fc = nn.Linear(768, 1)\n",
    "        self.sigmoid = nn.Sigmoid()\n",
    "    \n",
    "    def forward(self, text):\n",
    "        input_ids = self.tokenizer.encode(text, return_tensors='pt')\n",
    "        outputs = self.bert_model(input_ids)\n",
    "        pooled_output = outputs[1]\n",
    "        return self.sigmoid(self.fc(pooled_output))\n",
    "    \n",
    "model = bert()\n",
    "\n",
    "text = \"Hello, my dog is cute\"\n",
    "output = model(text)\n",
    "print(output)"
   ]
  }
 ],
 "metadata": {
  "kernelspec": {
   "display_name": "Python 3",
   "language": "python",
   "name": "python3"
  },
  "language_info": {
   "codemirror_mode": {
    "name": "ipython",
    "version": 3
   },
   "file_extension": ".py",
   "mimetype": "text/x-python",
   "name": "python",
   "nbconvert_exporter": "python",
   "pygments_lexer": "ipython3",
   "version": "3.8.19"
  }
 },
 "nbformat": 4,
 "nbformat_minor": 2
}
