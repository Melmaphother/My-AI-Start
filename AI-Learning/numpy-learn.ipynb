{
 "cells": [
  {
   "cell_type": "markdown",
   "metadata": {},
   "source": [
    "> 学习来源：[numpy](https://www.numpy.org.cn/user/setting-up.html)"
   ]
  },
  {
   "cell_type": "markdown",
   "metadata": {},
   "source": [
    "# Numpy\n",
    "## 简单介绍\n",
    "\n",
    "### 基本特征\n",
    "矢量化（Vectorization）和广播（Broadcasting）\n",
    "\n",
    "### 具体特征\n",
    "- 多维数组对象 ndarray，拥有数组快速操作的各种API。\n",
    "- 创建时具有固定的大小，更改 ndarray 大小将会创建一个新数组并删除之前的数组\n",
    "- 矢量化：代码更简洁，更加 pythonic\n",
    "- 广播：隐式地逐元素\n",
    "- 预编译的C代码中“幕后”优化，让 numpy 速度较 python 原生 array 快很多\n",
    "\n",
    "注意： ndarray 是一个类，拥有许多方法和属性。它的许多方法都是最外层的 NumPy 命名空间中的函数镜像"
   ]
  },
  {
   "cell_type": "markdown",
   "metadata": {},
   "source": [
    "# numpy 中的属性\n",
    "numpy 命名空间中的 ndarray 对象也被别名为 array 对象中有下列属性：\n",
    "- ndarray.ndim - 数组的轴（维度）的个数\n",
    "- ndarray.shape - 数组的维度。这是一个整数的元组，表示每个维度中数组的大小。对于有 n 行和 m 列的矩阵，shape 是 (n, m)\n",
    "  shape 的长度就是 ndim\n",
    "- ndarray.size - 数组元素的总数。等于 shape 的元素的乘积。\n",
    "- ndarray.dtype - 描述数组中元素类型的对象。可以是 python 自带的，也可以是 numpy 提供的。\n",
    "- ndarray.itemsize - 数组中每个元素的字节大小。例如，元素为 float64 类型的数组的 itemsize 为8（=64/8），而 complex32 类型\n",
    "  的数组的 itemsize 为4（=32/8）。它等于 ndarray.dtype.itemsize，可以少一层调用。\n",
    "- ndarray.data - 该缓冲区包含数组的实际元素。通常不需要使用此属性。"
   ]
  },
  {
   "cell_type": "markdown",
   "metadata": {},
   "source": [
    "# numpy 数组创建\n",
    "使用 array 函数从 python 列表或元组中创建数组，注意：\n",
    "- 不能传入多个数字 作为参数\n",
    "- array 可以自动转换多维数组\n",
    "- 可以在创建时显式指定数组的类型，使用 dtype 的参数即可\n",
    "- 函数 zeros 创建一个由 0 组成的数组\n",
    "- 函数 ones 创建一个由 1 组成的数组\n",
    "- 函数 empty 创建一个数组，其初始内容是随机的，取决于内存的状态\n",
    "- 默认情况下，创建的数组的 dtype 是 float64 类型的。可以根据 dtype 进行指定类型\n",
    "\n",
    "arange 和 linspace\n",
    "- arange 类似于 range，有起点终点和步长，其中终点默认**不包含**\n",
    "- linspace 一般用于浮点数，不在是步长而是指定数组元素个数，其中终点默认**包含**\n",
    "\n",
    "zeros_like 和 ones_like：接收一个 numpy 数组，生成一个同样 shape 的全 0 或全 1 数组"
   ]
  },
  {
   "cell_type": "code",
   "execution_count": 4,
   "metadata": {},
   "outputs": [
    {
     "name": "stdout",
     "output_type": "stream",
     "text": [
      "[[1.5 2.  3. ]\n",
      " [4.  5.  6. ]]\n",
      "[[0. 0. 0. 0.]\n",
      " [0. 0. 0. 0.]\n",
      " [0. 0. 0. 0.]]\n",
      "[[[1 1 1 1]\n",
      "  [1 1 1 1]\n",
      "  [1 1 1 1]]\n",
      "\n",
      " [[1 1 1 1]\n",
      "  [1 1 1 1]\n",
      "  [1 1 1 1]]]\n",
      "[[1.39069238e-309 1.39069238e-309 1.39069238e-309]\n",
      " [1.39069238e-309 1.39069238e-309 1.39069238e-309]]\n",
      "[10 15 20 25]\n",
      "[0.   0.25 0.5  0.75 1.   1.25 1.5  1.75 2.  ]\n"
     ]
    }
   ],
   "source": [
    "import numpy as np\n",
    "\n",
    "a = np.array([(1.5,2,3), (4,5,6)])\n",
    "print(a)\n",
    "\n",
    "b = np.zeros( (3,4) )\n",
    "print(b)\n",
    "\n",
    "c = np.ones( (2,3,4), dtype=np.int16 )\n",
    "print(c)\n",
    "\n",
    "d = np.empty( (2,3) )\n",
    "print(d)\n",
    "\n",
    "e = np.arange( 10, 30, 5 )\n",
    "print(e)\n",
    "\n",
    "f = np.linspace( 0, 2, 9 )\n",
    "print(f)\n"
   ]
  },
  {
   "cell_type": "markdown",
   "metadata": {},
   "source": [
    "# numpy 的打印\n",
    "\n",
    "- 最后一个轴(axis最大的)从左到右打印，\n",
    "- 倒数第二个从上到下打印，\n",
    "- 其余部分也从上到下打印，每个切片用空行分隔。\n",
    "\n",
    "所以一般在二维数组中，可以理解为打印的结果可以使用正规二维矩阵的行列来寻址"
   ]
  },
  {
   "cell_type": "code",
   "execution_count": 5,
   "metadata": {},
   "outputs": [
    {
     "name": "stdout",
     "output_type": "stream",
     "text": [
      "[[0 1 2]\n",
      " [3 4 5]]\n"
     ]
    }
   ],
   "source": [
    "a = np.arange(6).reshape(2, 3)\n",
    "print(a)"
   ]
  },
  {
   "cell_type": "markdown",
   "metadata": {},
   "source": [
    "# numpy 的基本操作\n",
    "几乎所有的算数运算符在 numpy 中都会应用到逐个元素级别\n",
    "- `*` 运算符用于逐元素的乘法操作，类似于内积。`@` 运算符才是矩阵乘法。\n",
    "- `+=` 和 `*=` 会更直接更改被操作的 array 而不会创建新 array。\n",
    "- 类型向上转换，无法 auto 地向下转换"
   ]
  },
  {
   "cell_type": "code",
   "execution_count": 6,
   "metadata": {},
   "outputs": [
    {
     "name": "stdout",
     "output_type": "stream",
     "text": [
      "[[2 0]\n",
      " [0 4]]\n",
      "[[5 4]\n",
      " [3 4]]\n",
      "int32\n",
      "[[-0.41614684+0.90929743j  1.        +0.j        ]\n",
      " [-0.9899925 +0.14112001j -0.65364362-0.7568025j ]]\n"
     ]
    }
   ],
   "source": [
    "A = np.array( [[1,1],\n",
    "              [0,1]] )\n",
    "B = np.array( [[2,0],\n",
    "              [3,4]] )\n",
    "\n",
    "print(A * B)\n",
    "print(A @ B)\n",
    "print(B.dtype)\n",
    "\n",
    "C = np.exp(B*1j)\n",
    "print(C)"
   ]
  },
  {
   "cell_type": "markdown",
   "metadata": {},
   "source": [
    "# numpy 指定具体轴\n",
    "`axis=0` 一般代表最外的轴，其次是 `axis=1`。\n",
    "在二维矩阵中 `axis=0` 代表操作每一个 column；`axis=1` 代表操作每一个 row"
   ]
  },
  {
   "cell_type": "code",
   "execution_count": 15,
   "metadata": {},
   "outputs": [
    {
     "name": "stdout",
     "output_type": "stream",
     "text": [
      "[[ 0  1  2  3]\n",
      " [ 4  5  6  7]\n",
      " [ 8  9 10 11]]\n",
      "[12 15 18 21]\n"
     ]
    }
   ],
   "source": [
    "a = np.arange(12).reshape(3,4)\n",
    "print(a)\n",
    "print(a.sum(axis=0))"
   ]
  },
  {
   "cell_type": "markdown",
   "metadata": {},
   "source": [
    "# numpy 的索引、切片和迭代\n",
    "类似列表\n",
    "\n",
    "反转一维矩阵：a_rev = a[::-1]\n",
    "\n",
    "三个点（ ... ）表示产生完整索引元组所需的冒号\n",
    "\n",
    "如果想要对数组中的每个元素执行操作，可以使用flat属性，该属性是数组的所有元素的迭代器"
   ]
  },
  {
   "cell_type": "code",
   "execution_count": 16,
   "metadata": {},
   "outputs": [
    {
     "name": "stdout",
     "output_type": "stream",
     "text": [
      "[ 0  1  4  9 16 25 36 49 64 81]\n",
      "[-1000     1 -1000     9 -1000    25    36    49    64    81]\n",
      "[   81    64    49    36    25 -1000     9 -1000     1 -1000]\n"
     ]
    }
   ],
   "source": [
    "a = np.arange(10)**2\n",
    "print(a)\n",
    "a[:6:2] = -1000 \n",
    "print(a)\n",
    "b = a[::-1]\n",
    "print(b)"
   ]
  },
  {
   "cell_type": "code",
   "execution_count": 17,
   "metadata": {},
   "outputs": [
    {
     "name": "stdout",
     "output_type": "stream",
     "text": [
      "[[100 101 102]\n",
      " [110 112 113]]\n"
     ]
    }
   ],
   "source": [
    "c = np.array( [[[  0,  1,  2],               # a 3D array (two stacked 2D arrays)\n",
    "                 [ 10, 12, 13]],\n",
    "                [[100,101,102],\n",
    "                 [110,112,113]]])\n",
    "print(c[1, ...])"
   ]
  },
  {
   "cell_type": "code",
   "execution_count": 18,
   "metadata": {},
   "outputs": [
    {
     "name": "stdout",
     "output_type": "stream",
     "text": [
      "[[ 0  1  2  3]\n",
      " [ 4  5  6  7]\n",
      " [ 8  9 10 11]]\n",
      "[0 1 2 3]\n",
      "[4 5 6 7]\n",
      "[ 8  9 10 11]\n",
      "0\n",
      "1\n",
      "2\n",
      "3\n",
      "4\n",
      "5\n",
      "6\n",
      "7\n",
      "8\n",
      "9\n",
      "10\n",
      "11\n"
     ]
    }
   ],
   "source": [
    "b = np.arange(12).reshape(3,4)\n",
    "print(b)\n",
    "\n",
    "for row in b:\n",
    "    print(row)\n",
    "\n",
    "for elem in b.flat:\n",
    "    print(elem)"
   ]
  },
  {
   "cell_type": "markdown",
   "metadata": {},
   "source": [
    "# numpy 广播规则\n",
    "广播允许 通用功能 以有意义的方式处理 **不具有完全相同形状** 的输入。\n",
    "规则：\n",
    "- 所有输入数组不具有相同数量的维度，则将“1”重复地预先添加到较小数组的形状，直到所有数组具有相同数量的维度。\n",
    "- 确保沿特定维度的大小为1的数组表现为具有沿该维度具有 最大形状的数组 的大小。"
   ]
  }
 ],
 "metadata": {
  "kernelspec": {
   "display_name": "ml",
   "language": "python",
   "name": "python3"
  },
  "language_info": {
   "codemirror_mode": {
    "name": "ipython",
    "version": 3
   },
   "file_extension": ".py",
   "mimetype": "text/x-python",
   "name": "python",
   "nbconvert_exporter": "python",
   "pygments_lexer": "ipython3",
   "version": "3.10.13"
  }
 },
 "nbformat": 4,
 "nbformat_minor": 2
}
