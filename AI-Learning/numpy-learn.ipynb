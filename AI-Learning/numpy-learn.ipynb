{
 "cells": [
  {
   "cell_type": "markdown",
   "metadata": {},
   "source": [
    "> 学习来源：[numpy](https://www.numpy.org.cn/user/setting-up.html)"
   ]
  },
  {
   "cell_type": "markdown",
   "metadata": {},
   "source": [
    "# Numpy\n",
    "## 简单介绍\n",
    "\n",
    "### 基本特征\n",
    "矢量化（Vectorization）和广播（Broadcasting）\n",
    "\n",
    "### 具体特征\n",
    "- 多维数组对象 ndarray，拥有数组快速操作的各种API。\n",
    "- 创建时具有固定的大小，更改 ndarray 大小将会创建一个新数组并删除之前的数组\n",
    "- 矢量化：代码更简洁，更加 pythonic\n",
    "- 广播：隐式地逐元素\n",
    "- 预编译的C代码中“幕后”优化，让 numpy 速度较 python 原生 array 快很多\n",
    "\n",
    "注意： ndarray 是一个类，拥有许多方法和属性。它的许多方法都是最外层的 NumPy 命名空间中的函数镜像"
   ]
  },
  {
   "cell_type": "markdown",
   "metadata": {},
   "source": [
    "# numpy 中的属性\n",
    "numpy 命名空间中的 ndarray 对象也被别名为 array 对象中有下列属性：\n",
    "- ndarray.ndim - 数组的轴（维度）的个数\n",
    "- ndarray.shape - 数组的维度。这是一个整数的元组，表示每个维度中数组的大小。对于有 n 行和 m 列的矩阵，shape 是 (n, m)\n",
    "  shape 的长度就是 ndim\n",
    "- ndarray.size - 数组元素的总数。等于 shape 的元素的乘积。\n",
    "- ndarray.dtype - 描述数组中元素类型的对象。可以是 python 自带的，也可以是 numpy 提供的。\n",
    "- ndarray.itemsize - 数组中每个元素的字节大小。例如，元素为 float64 类型的数组的 itemsize 为8（=64/8），而 complex32 类型\n",
    "  的数组的 itemsize 为4（=32/8）。它等于 ndarray.dtype.itemsize，可以少一层调用。\n",
    "- ndarray.data - 该缓冲区包含数组的实际元素。通常不需要使用此属性。"
   ]
  },
  {
   "cell_type": "markdown",
   "metadata": {},
   "source": [
    "# numpy 数组创建\n",
    "使用 array 函数从 python 列表或元组中创建数组，注意：\n",
    "- 不能传入多个数字 作为参数\n",
    "- array 可以自动转换多维数组\n",
    "- 可以在创建时显式指定数组的类型，使用 dtype 的参数即可\n",
    "- 函数 zeros 创建一个由 0 组成的数组\n",
    "- 函数 ones 创建一个由 1 组成的数组\n",
    "- 函数 empty 创建一个数组，其初始内容是随机的，取决于内存的状态\n",
    "- 默认情况下，创建的数组的 dtype 是 float64 类型的。可以根据 dtype 进行指定类型\n",
    "\n",
    "arange 和 linspace\n",
    "- arange 类似于 range，有起点终点和步长，其中终点默认**不包含**\n",
    "- linspace 一般用于浮点数，不在是步长而是指定数组元素个数，其中终点默认**包含**\n",
    "\n",
    "zeros_like 和 ones_like：接收一个 numpy 数组，生成一个同样 shape 的全 0 或全 1 数组"
   ]
  },
  {
   "cell_type": "code",
   "execution_count": 1,
   "metadata": {},
   "outputs": [
    {
     "name": "stdout",
     "output_type": "stream",
     "text": [
      "[[1.5 2.  3. ]\n",
      " [4.  5.  6. ]]\n",
      "[[0. 0. 0. 0.]\n",
      " [0. 0. 0. 0.]\n",
      " [0. 0. 0. 0.]]\n",
      "[[[1 1 1 1]\n",
      "  [1 1 1 1]\n",
      "  [1 1 1 1]]\n",
      "\n",
      " [[1 1 1 1]\n",
      "  [1 1 1 1]\n",
      "  [1 1 1 1]]]\n",
      "[[1.5 2.  3. ]\n",
      " [4.  5.  6. ]]\n",
      "[10 15 20 25]\n",
      "[0.   0.25 0.5  0.75 1.   1.25 1.5  1.75 2.  ]\n"
     ]
    }
   ],
   "source": [
    "import numpy as np\n",
    "\n",
    "a = np.array([(1.5,2,3), (4,5,6)])\n",
    "print(a)\n",
    "\n",
    "b = np.zeros( (3,4) )\n",
    "print(b)\n",
    "\n",
    "c = np.ones( (2,3,4), dtype=np.int16 )\n",
    "print(c)\n",
    "\n",
    "d = np.empty( (2,3) )\n",
    "print(d)\n",
    "\n",
    "e = np.arange( 10, 30, 5 )\n",
    "print(e)\n",
    "\n",
    "f = np.linspace( 0, 2, 9 )\n",
    "print(f)\n"
   ]
  }
 ],
 "metadata": {
  "kernelspec": {
   "display_name": "ml",
   "language": "python",
   "name": "python3"
  },
  "language_info": {
   "codemirror_mode": {
    "name": "ipython",
    "version": 3
   },
   "file_extension": ".py",
   "mimetype": "text/x-python",
   "name": "python",
   "nbconvert_exporter": "python",
   "pygments_lexer": "ipython3",
   "version": "3.10.13"
  }
 },
 "nbformat": 4,
 "nbformat_minor": 2
}
