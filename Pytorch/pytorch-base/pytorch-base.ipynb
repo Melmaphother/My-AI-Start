{
 "cells": [
  {
   "cell_type": "markdown",
   "metadata": {},
   "source": [
    "# pytorch 基础\n",
    "\n",
    "Pytorch 由 Facebook 人工智能研究院于 2017 年推出，具有强大的 GPU 加速张量计算功能，并且能够自动进行微分计算，从而可以使用基于梯度的方法对模型参数进行优化"
   ]
  },
  {
   "cell_type": "markdown",
   "metadata": {},
   "source": [
    "## pytorch lib function and object"
   ]
  },
  {
   "cell_type": "markdown",
   "metadata": {},
   "source": [
    "### tensor\n",
    "\n",
    "张量 (Tensor) 是深度学习的基础。\n",
    "- 0 维张量称为标量 (scalar)\n",
    "- 1 维张量称为向量 (vector)\n",
    "- 2 维张量称为矩阵 (matrix)\n",
    "\n",
    "Pytorch 本质上就是一个基于张量的数学计算工具包"
   ]
  },
  {
   "cell_type": "code",
   "execution_count": 2,
   "metadata": {},
   "outputs": [
    {
     "name": "stdout",
     "output_type": "stream",
     "text": [
      "tensor([0, 2, 4, 6, 8])\n"
     ]
    }
   ],
   "source": [
    "import torch\n",
    "t1 = torch.empty(2, 3)\n",
    "t2 = torch.rand(2, 3) # each value taken from [0, 1)\n",
    "t3 = torch.randn(2, 3) # each value taken from a normal distribution\n",
    "t4 = torch.zeros(2, 3) # all zeros\n",
    "t5 = torch.arange(0, 10, 2) # start, end, step\n",
    "print(t5)"
   ]
  },
  {
   "cell_type": "code",
   "execution_count": 3,
   "metadata": {},
   "outputs": [],
   "source": [
    "# 也可以通过 torch.tensor() 或者 torch.from_numpy() 基于已有的数组或 Numpy 数组创建张量\n",
    "import numpy as np\n",
    "arr = np.array([1, 2, 3])\n",
    "t6 = torch.tensor(arr)"
   ]
  },
  {
   "cell_type": "code",
   "execution_count": 4,
   "metadata": {},
   "outputs": [],
   "source": [
    "\"\"\"\n",
    "上面这些方式创建的张量会存储在内存中并使用 CPU 进行计算，如果想要调用 GPU 计算，需要直接在 GPU 中创建张量或者将张量送入到 GPU 中，一共有三种方法\n",
    "\"\"\"\n",
    "# 方法一：直接在 GPU 中创建张量\n",
    "device = torch.device('cuda')\n",
    "t7 = torch.rand(2, 3, device=device)\n",
    "\n",
    "# 方法二：将张量送入到 GPU 中\n",
    "t8 = torch.rand(2, 3)\n",
    "t8 = t8.to(device)\n",
    "\n",
    "# 方法三：之间调用 cuda 函数\n",
    "t9 = torch.rand(2, 3)\n",
    "t9 = t9.cuda()\n",
    "\n",
    "# 方法一和方法三都不够好，因为如果没有 GPU，程序会报错，所以推荐使用方法二"
   ]
  },
  {
   "cell_type": "markdown",
   "metadata": {},
   "source": [
    "### tensor computation\n",
    "\n",
    "类似 numpy 的 broadcasting。\n",
    "\n",
    "基本运算：加减乘除、三角函数、向量点积、矩阵相乘"
   ]
  },
  {
   "cell_type": "code",
   "execution_count": 6,
   "metadata": {},
   "outputs": [
    {
     "name": "stdout",
     "output_type": "stream",
     "text": [
      "tensor(0.6236)\n",
      "tensor([[ 6.4440e-01, -9.9170e-01],\n",
      "        [ 1.9814e-04,  1.4675e+00]])\n"
     ]
    }
   ],
   "source": [
    "t10 = torch.randn(2, 3)\n",
    "t11 = torch.randn(2, 3)\n",
    "# print(t10.dot(t11)) # error\n",
    "print(t10[0].dot(t11[0]))\n",
    "t12 = torch.randn(3, 2)\n",
    "print(t10.mm(t12))"
   ]
  },
  {
   "cell_type": "code",
   "execution_count": 7,
   "metadata": {},
   "outputs": [
    {
     "name": "stdout",
     "output_type": "stream",
     "text": [
      "40.77812500000073\n",
      "7.684117200000401\n"
     ]
    }
   ],
   "source": [
    "\"\"\"\n",
    "一个显著的特点就是 pytorch 在 gpu 上的运算会比 cpu 快很多。\n",
    "另外 pytorch 可以在 gpu 上原生运行，而 numpy 却只能在 cpu 上运行。\n",
    "\"\"\"\n",
    "import timeit\n",
    "\n",
    "M = torch.rand(1000, 1000)\n",
    "print(timeit.timeit(lambda: M.mm(M).mm(M), number=5000))\n",
    "\n",
    "N = torch.rand(1000, 1000).cuda()\n",
    "print(timeit.timeit(lambda: N.mm(N).mm(N), number=5000))"
   ]
  },
  {
   "cell_type": "markdown",
   "metadata": {},
   "source": [
    "### automatic differentiation\n",
    "\n",
    "Pytorch 提供自动计算梯度的功能，可以自动计算一个函数关于一个变量在某一取值下的导数，从而基于梯度对参数进行优化，这就是机器学习中的训练过程。"
   ]
  },
  {
   "cell_type": "code",
   "execution_count": 8,
   "metadata": {},
   "outputs": [
    {
     "name": "stdout",
     "output_type": "stream",
     "text": [
      "tensor([5.], grad_fn=<MulBackward0>)\n",
      "tensor([1.]) tensor([6.])\n"
     ]
    }
   ],
   "source": [
    "x = torch.tensor([2.], requires_grad=True)\n",
    "y = torch.tensor([3.], requires_grad=True)\n",
    "z = (x + y) * (y - 2)\n",
    "print(z)\n",
    "z.backward()\n",
    "print(x.grad, y.grad)"
   ]
  },
  {
   "cell_type": "markdown",
   "metadata": {},
   "source": [
    "### modify tensor shape\n",
    "\n",
    "Pytorch 共提供了 4 种调整张量形状的函数"
   ]
  },
  {
   "cell_type": "markdown",
   "metadata": {},
   "source": [
    "#### view"
   ]
  },
  {
   "cell_type": "markdown",
   "metadata": {},
   "source": [
    "#### reshape"
   ]
  },
  {
   "cell_type": "markdown",
   "metadata": {},
   "source": [
    "#### transpose"
   ]
  },
  {
   "cell_type": "markdown",
   "metadata": {},
   "source": [
    "#### permute"
   ]
  },
  {
   "cell_type": "markdown",
   "metadata": {},
   "source": [
    "## dataloader"
   ]
  },
  {
   "cell_type": "markdown",
   "metadata": {},
   "source": [
    "## train model"
   ]
  },
  {
   "cell_type": "markdown",
   "metadata": {},
   "source": [
    "## save and load model"
   ]
  }
 ],
 "metadata": {
  "kernelspec": {
   "display_name": "ml",
   "language": "python",
   "name": "python3"
  },
  "language_info": {
   "codemirror_mode": {
    "name": "ipython",
    "version": 3
   },
   "file_extension": ".py",
   "mimetype": "text/x-python",
   "name": "python",
   "nbconvert_exporter": "python",
   "pygments_lexer": "ipython3",
   "version": "undefined.undefined.undefined"
  }
 },
 "nbformat": 4,
 "nbformat_minor": 2
}
